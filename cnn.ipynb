{
 "cells": [
  {
   "cell_type": "code",
   "execution_count": null,
   "id": "85f23c97-4172-4806-ab31-65dfe7f6907e",
   "metadata": {
    "tags": []
   },
   "outputs": [],
   "source": [
    "import tensorflow as tf\n",
    "\n",
    "from tensorflow.keras import datasets, layers, models\n",
    "from tensorflow.keras.layers import Dropout\n",
    "import matplotlib.pyplot as plt\n",
    "from tensorflow.keras.utils import to_categorical"
   ]
  },
  {
   "cell_type": "code",
   "execution_count": null,
   "id": "e081f455-4ccc-4ccd-94a1-61a02bf7e592",
   "metadata": {
    "tags": []
   },
   "outputs": [],
   "source": [
    "(train_images, train_labels), (test_images, test_labels) = datasets.cifar10.load_data()"
   ]
  },
  {
   "cell_type": "code",
   "execution_count": null,
   "id": "d6e18eb7-f0d3-458c-bcae-34abc088a277",
   "metadata": {
    "tags": []
   },
   "outputs": [],
   "source": [
    "train_images, test_images = train_images / 255.0, test_images / 255.0\n",
    "\n",
    "#train_labels = to_categorical(train_labels)\n",
    "#test_labels = to_categorical(test_labels)\n",
    "\n",
    "\n",
    "print('train data shape: ' + str(train_images.shape))"
   ]
  },
  {
   "cell_type": "code",
   "execution_count": null,
   "id": "dc07b664-af4d-46fd-a735-82de3087000e",
   "metadata": {
    "tags": []
   },
   "outputs": [],
   "source": [
    "class_names = ['airplane', 'automobile', 'bird', 'cat', 'deer',\n",
    "               'dog', 'frog', 'horse', 'ship', 'truck']\n",
    "\n",
    "plt.figure(figsize=(10,10))\n",
    "for i in range(25):\n",
    "    plt.subplot(5,5,i+1)\n",
    "    plt.xticks([])\n",
    "    plt.yticks([])\n",
    "    plt.grid(False)\n",
    "    plt.imshow(train_images[i])\n",
    "    # The CIFAR labels happen to be arrays, \n",
    "    # which is why you need the extra index\n",
    "    plt.xlabel(class_names[train_labels[i][0]])\n",
    "plt.show()"
   ]
  },
  {
   "cell_type": "code",
   "execution_count": null,
   "id": "432f278e-811d-4ded-afae-150530f590bf",
   "metadata": {
    "tags": []
   },
   "outputs": [],
   "source": [
    "model = models.Sequential()\n",
    "model.add(layers.Conv2D(32,(3,3), activation='relu', input_shape=(32,32,3)))\n",
    "model.add(layers.MaxPooling2D((2, 2)))\n",
    "model.add(layers.Conv2D(64, (3, 3), activation='relu'))\n",
    "model.add(layers.MaxPooling2D((2, 2)))\n",
    "model.add(layers.Conv2D(64, (3, 3), activation='relu'))"
   ]
  },
  {
   "cell_type": "code",
   "execution_count": null,
   "id": "fbaca584-2058-4022-b92c-8ada7e4a5d22",
   "metadata": {
    "tags": []
   },
   "outputs": [],
   "source": [
    "model.summary()"
   ]
  },
  {
   "cell_type": "code",
   "execution_count": null,
   "id": "5b042ee8-79aa-4da6-807e-4a8eab950e9e",
   "metadata": {
    "tags": []
   },
   "outputs": [],
   "source": [
    "model.add(layers.Flatten())\n",
    "model.add(layers.Dense(64, activation='relu'))\n",
    "model.add(layers.Dense(10))"
   ]
  },
  {
   "cell_type": "code",
   "execution_count": null,
   "id": "27c8ebfb-ea19-493c-8d99-2e967e147164",
   "metadata": {
    "tags": []
   },
   "outputs": [],
   "source": [
    "model.summary()"
   ]
  },
  {
   "cell_type": "code",
   "execution_count": null,
   "id": "817e602e-45f6-42d4-8aec-0e98198d7089",
   "metadata": {
    "tags": []
   },
   "outputs": [],
   "source": [
    "model.compile(optimizer='adam',loss=tf.keras.losses.SparseCategoricalCrossentropy(from_logits=True),metrics=['accuracy'])\n",
    "history = model.fit(train_images, train_labels, epochs=10, validation_data=(test_images, test_labels))"
   ]
  },
  {
   "cell_type": "code",
   "execution_count": null,
   "id": "de4f9544-618b-4692-8b1b-805066bd893c",
   "metadata": {
    "tags": []
   },
   "outputs": [],
   "source": [
    "#plt.plot(history.history['accuracy'], label='accuracy')\n",
    "#plt.plot(history.history['val_accuracy'], label = 'val_accuracy')\n",
    "#plt.xlabel('Epoch')\n",
    "#plt.ylabel('Accuracy')\n",
    "#plt.ylim([0.5, 1])\n",
    "#plt.legend(loc='lower right')\n",
    "#lt.subplot(121)\n",
    "\n",
    "#plt.plot(history.history['loss'], label='loss')\n",
    "#plt.plot(history.history['val_loss'], label = 'val_loss')\n",
    "#plt.xlabel('Epoch')\n",
    "#plt.ylabel('Accuracy')\n",
    "#plt.ylim([0.5, 1])\n",
    "#plt.legend(loc='lower right')\n",
    "#plt.subplot(122)\n",
    "def plot_metrics(history):\n",
    "    plt.figure(figsize = (25, 12))\n",
    "    plt.subplot(121)\n",
    "    plt.plot(history.history['loss'])\n",
    "    plt.plot(history.history['val_loss'])\n",
    "    plt.title('model loss', fontsize = 18, fontweight=\"bold\")\n",
    "    plt.ylabel('loss')\n",
    "    plt.xlabel('epoch')\n",
    "    plt.legend(['train', 'validation'], loc='upper right', prop={'size': 20})\n",
    "\n",
    "    plt.subplot(122)\n",
    "    plt.plot(history.history['accuracy'])\n",
    "    plt.plot(history.history['val_accuracy'])\n",
    "    plt.title('model accuracy', fontsize = 18, fontweight=\"bold\")\n",
    "    plt.ylabel('acc')\n",
    "    plt.xlabel('epochs')\n",
    "    plt.legend(['train', 'validation'], loc='lower right', prop={'size': 20})"
   ]
  },
  {
   "cell_type": "code",
   "execution_count": null,
   "id": "64b028d8-64f1-466c-9512-f845f41d1f1a",
   "metadata": {
    "tags": []
   },
   "outputs": [],
   "source": [
    "plot_metrics(history)"
   ]
  },
  {
   "cell_type": "code",
   "execution_count": null,
   "id": "5a43680c-0c2c-4f1e-8415-86c12905266f",
   "metadata": {
    "tags": []
   },
   "outputs": [],
   "source": [
    "scores = model.evaluate(test_images, test_labels, verbose=0)\n",
    "print(\"CNN: %.2f%%\" % (100-scores[1]*100)) "
   ]
  },
  {
   "cell_type": "code",
   "execution_count": null,
   "id": "96fe0262-0089-465a-908e-9d1182e1f5d1",
   "metadata": {
    "tags": []
   },
   "outputs": [],
   "source": [
    "def second_model():\n",
    "    new_model = models.Sequential()\n",
    "    new_model.add(layers.Conv2D(32, (3, 3), activation='relu', padding='same', input_shape=(train_images.shape[1:])))\n",
    "    new_model.add(layers.Conv2D(32, (3, 3), activation='relu', padding='same'))\n",
    "    new_model.add(layers.MaxPooling2D(2))\n",
    "    new_model.add(Dropout(0.5))\n",
    "    \n",
    "    new_model.add(layers.Conv2D(64, (3, 3), activation='relu', padding='same'))\n",
    "    new_model.add(layers.Conv2D(64, (3, 3), activation='relu', padding='same'))\n",
    "    new_model.add(layers.MaxPooling2D(2))\n",
    "    new_model.add(Dropout(0.25))\n",
    "    \n",
    "    new_model.add(layers.Conv2D(128, (3, 3), activation='relu', padding='same'))\n",
    "    new_model.add(layers.Conv2D(128, (3, 3), activation='relu', padding='same'))\n",
    "    new_model.add(layers.MaxPooling2D(2))\n",
    "    new_model.add(Dropout(0.5))\n",
    "    \n",
    "    new_model.add(layers.Flatten())\n",
    "    new_model.add(layers.Dense(10, activation='softmax'))\n",
    "    \n",
    "    new_model.compile(optimizer='adam',loss=tf.keras.losses.SparseCategoricalCrossentropy(from_logits=True),metrics=['accuracy'])\n",
    "    return new_model"
   ]
  },
  {
   "cell_type": "code",
   "execution_count": null,
   "id": "e2175e2c-9520-480f-a535-44069b9a5052",
   "metadata": {
    "tags": []
   },
   "outputs": [],
   "source": [
    "model2 = second_model()\n",
    "model2.summary()"
   ]
  },
  {
   "cell_type": "code",
   "execution_count": null,
   "id": "6d6e2ef7-3377-48d7-a2a8-3170e194b7ee",
   "metadata": {
    "tags": []
   },
   "outputs": [],
   "source": [
    "history2 = model2.fit(train_images, train_labels, epochs=10, validation_data=(test_images, test_labels))"
   ]
  },
  {
   "cell_type": "code",
   "execution_count": null,
   "id": "5d9d349f-6fae-40e7-9118-742348e69066",
   "metadata": {
    "tags": []
   },
   "outputs": [],
   "source": [
    "plot_metrics(history2)"
   ]
  },
  {
   "cell_type": "code",
   "execution_count": null,
   "id": "8698608c-d03b-4b2d-9800-6b4c5d7ce4d9",
   "metadata": {
    "tags": []
   },
   "outputs": [],
   "source": [
    "scores = model.evaluate(test_images, test_labels, verbose=0)\n",
    "print(\"CNN: %.2f%%\" % (100-scores[1]*100)) "
   ]
  },
  {
   "cell_type": "code",
   "execution_count": null,
   "id": "f8dc3341-04ba-457c-a830-9a2ee8f58181",
   "metadata": {
    "tags": []
   },
   "outputs": [],
   "source": [
    "tf.saved_model.save(model,'./tensor')"
   ]
  },
  {
   "cell_type": "code",
   "execution_count": null,
   "id": "5a3a5feb-fe20-4404-974f-68ec7f148952",
   "metadata": {
    "tags": []
   },
   "outputs": [],
   "source": [
    "model.evaluate(test_images, verbose=2)"
   ]
  },
  {
   "cell_type": "markdown",
   "id": "be70da7e-4294-400d-896f-ea5f8cfb2d00",
   "metadata": {},
   "source": [
    "linha de comando para converter de tensor para onnx python -m tf2onnx.convert --saved-model ./tensor --output model.onnx"
   ]
  },
  {
   "cell_type": "code",
   "execution_count": null,
   "id": "8e3d2c71-fa5a-4dad-823a-6c3b179bd5fe",
   "metadata": {},
   "outputs": [],
   "source": []
  }
 ],
 "metadata": {
  "kernelspec": {
   "display_name": "Python 3.9",
   "language": "python",
   "name": "python3"
  },
  "language_info": {
   "codemirror_mode": {
    "name": "ipython",
    "version": 3
   },
   "file_extension": ".py",
   "mimetype": "text/x-python",
   "name": "python",
   "nbconvert_exporter": "python",
   "pygments_lexer": "ipython3",
   "version": "3.9.18"
  }
 },
 "nbformat": 4,
 "nbformat_minor": 5
}
