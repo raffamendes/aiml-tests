{
 "cells": [
  {
   "cell_type": "code",
   "execution_count": null,
   "id": "2bdcbc5a-8c34-490e-8b53-a780d6376ede",
   "metadata": {
    "tags": []
   },
   "outputs": [],
   "source": [
    "import torch\n",
    "from torch import nn\n",
    "from discriminator import Discriminator \n",
    "from generator import Generator\n",
    "\n",
    "import math\n",
    "import matplotlib.pyplot as plt\n",
    "import torchvision\n",
    "import torchvision.transforms as transforms"
   ]
  },
  {
   "cell_type": "code",
   "execution_count": null,
   "id": "2bbdb632-8f07-4c09-8642-df7e42e1065c",
   "metadata": {
    "tags": []
   },
   "outputs": [],
   "source": [
    "torch.manual_seed(111)"
   ]
  },
  {
   "cell_type": "code",
   "execution_count": null,
   "id": "282b76ec-9673-42d8-97c6-94cbbe4b8ab6",
   "metadata": {
    "tags": []
   },
   "outputs": [],
   "source": [
    "transform = transforms.Compose(\n",
    "    [transforms.ToTensor(), transforms.Normalize((0.5,), (0.5,))]\n",
    ")"
   ]
  },
  {
   "cell_type": "code",
   "execution_count": null,
   "id": "ef648dda-99ad-445c-b92c-e4ffca9514df",
   "metadata": {
    "tags": []
   },
   "outputs": [],
   "source": [
    "train_set = torchvision.datasets.MNIST(\n",
    "    root=\".\", train=True, download=True, transform=transform\n",
    ")"
   ]
  },
  {
   "cell_type": "code",
   "execution_count": null,
   "id": "2822d4a5-d254-43e5-bbef-4818e72dbb97",
   "metadata": {
    "tags": []
   },
   "outputs": [],
   "source": [
    "batch_size = 32\n",
    "train_loader = torch.utils.data.DataLoader(\n",
    "    train_set, batch_size=batch_size, shuffle=True\n",
    ")"
   ]
  },
  {
   "cell_type": "code",
   "execution_count": null,
   "id": "6054499f-bd11-4402-90f8-229899945fab",
   "metadata": {
    "tags": []
   },
   "outputs": [],
   "source": [
    "real_samples, mnist_labels = next(iter(train_loader))\n",
    "for i in range(16):\n",
    "    ax = plt.subplot(4, 4, i + 1)\n",
    "    plt.imshow(real_samples[i].reshape(28, 28), cmap=\"gray_r\")\n",
    "    plt.xticks([])\n",
    "    plt.yticks([])"
   ]
  },
  {
   "cell_type": "code",
   "execution_count": 36,
   "id": "a1f22be8-80b5-4393-8f99-0831fff3175f",
   "metadata": {
    "tags": []
   },
   "outputs": [],
   "source": [
    "dsc = Discriminator()"
   ]
  },
  {
   "cell_type": "code",
   "execution_count": 37,
   "id": "dd1c4566-6021-4683-9d62-779213c40a87",
   "metadata": {
    "tags": []
   },
   "outputs": [],
   "source": [
    "gen = Generator()"
   ]
  },
  {
   "cell_type": "code",
   "execution_count": null,
   "id": "a91a4c50-923b-4ce4-8c0e-1c92ea91d095",
   "metadata": {
    "tags": []
   },
   "outputs": [],
   "source": [
    "lr = 0.0001\n",
    "epochs = 50\n",
    "loss_function = nn.BCELoss()\n",
    "optimizer_discriminator = torch.optim.Adam(dsc.parameters(), lr=lr)\n",
    "optimizer_gen = torch.optim.Adam(gen.parameters(), lr=lr)"
   ]
  },
  {
   "cell_type": "code",
   "execution_count": null,
   "id": "2a74ca67-dcde-4bd0-beb0-5850fedbd8e8",
   "metadata": {
    "tags": []
   },
   "outputs": [
    {
     "name": "stdout",
     "output_type": "stream",
     "text": [
      "Epoch: 0 Loss D.: 0.03395676612854004\n",
      "Epoch: 0 Loss G.: 3.8259243965148926\n",
      "Epoch: 1 Loss D.: 0.01941712014377117\n",
      "Epoch: 1 Loss G.: 5.783373832702637\n",
      "Epoch: 2 Loss D.: 0.06617913395166397\n",
      "Epoch: 2 Loss G.: 6.18718957901001\n"
     ]
    }
   ],
   "source": [
    "for epoch in range(epochs):\n",
    "    for n, (real_samples, mnist_labels) in enumerate(train_loader):\n",
    "        # Data for training the discriminator\n",
    "        real_samples = real_samples\n",
    "        real_samples_labels = torch.ones((batch_size, 1))\n",
    "        latent_space_samples = torch.randn((batch_size, 100))\n",
    "        generated_samples = gen(latent_space_samples)\n",
    "        generated_samples_labels = torch.zeros((batch_size, 1))\n",
    "        all_samples = torch.cat((real_samples, generated_samples))\n",
    "        all_samples_labels = torch.cat(\n",
    "            (real_samples_labels, generated_samples_labels)\n",
    "        )\n",
    "\n",
    "        # Training the discriminator\n",
    "        dsc.zero_grad()\n",
    "        output_dsc = dsc(all_samples)\n",
    "        loss_dsc = loss_function(\n",
    "            output_dsc, all_samples_labels\n",
    "        )\n",
    "        loss_dsc.backward()\n",
    "        optimizer_discriminator.step()\n",
    "\n",
    "        # Data for training the generator\n",
    "        latent_space_samples = torch.randn((batch_size, 100))\n",
    "\n",
    "        # Training the generator\n",
    "        gen.zero_grad()\n",
    "        generated_samples = gen(latent_space_samples)\n",
    "        output_dsc_generated = dsc(generated_samples)\n",
    "        loss_gen = loss_function(\n",
    "            output_dsc_generated, real_samples_labels\n",
    "        )\n",
    "        loss_gen.backward()\n",
    "        optimizer_gen.step()\n",
    "\n",
    "        # Show loss\n",
    "        if n == batch_size - 1:\n",
    "            print(f\"Epoch: {epoch} Loss D.: {loss_dsc}\")\n",
    "            print(f\"Epoch: {epoch} Loss G.: {loss_gen}\")\n",
    "\n",
    "latent_space_samples = torch.randn(batch_size, 100).to(device=device)\n",
    "generated_samples = gen(latent_space_samples)\n",
    "for i in range(16):\n",
    "    ax = plt.subplot(4, 4, i + 1)\n",
    "    plt.imshow(generated_samples[i].reshape(28, 28), cmap=\"gray_r\")\n",
    "    plt.xticks([])\n",
    "    plt.yticks([])"
   ]
  },
  {
   "cell_type": "code",
   "execution_count": null,
   "id": "6d30a0d8-7f14-4deb-b5f4-eeecfe5ec1dc",
   "metadata": {},
   "outputs": [],
   "source": []
  },
  {
   "cell_type": "code",
   "execution_count": null,
   "id": "8746bd63-e75d-42f0-a18e-cc6109699e64",
   "metadata": {},
   "outputs": [],
   "source": []
  }
 ],
 "metadata": {
  "kernelspec": {
   "display_name": "Python 3.9",
   "language": "python",
   "name": "python3"
  },
  "language_info": {
   "codemirror_mode": {
    "name": "ipython",
    "version": 3
   },
   "file_extension": ".py",
   "mimetype": "text/x-python",
   "name": "python",
   "nbconvert_exporter": "python",
   "pygments_lexer": "ipython3",
   "version": "3.9.18"
  }
 },
 "nbformat": 4,
 "nbformat_minor": 5
}
