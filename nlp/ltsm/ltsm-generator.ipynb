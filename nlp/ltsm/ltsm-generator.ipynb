{
 "cells": [
  {
   "cell_type": "code",
   "execution_count": 1,
   "id": "2b6e4d3b-73b9-4f7b-89f8-cf282f8ef88b",
   "metadata": {},
   "outputs": [],
   "source": [
    "import numpy as np\n",
    "import torch\n",
    "import torch.nn as nn\n",
    "import torch.optim as optim\n",
    "import torch.utils.data as data\n",
    "import os\n"
   ]
  },
  {
   "cell_type": "code",
   "execution_count": 2,
   "id": "0beb39b1-fcd8-4269-a747-bbdfe04cf29e",
   "metadata": {},
   "outputs": [],
   "source": [
    "raw_text = ''\n",
    "dataset_folder = 'text-data'"
   ]
  },
  {
   "cell_type": "code",
   "execution_count": 3,
   "id": "e910cfc5-d806-4b2d-9b1c-53bbaed395c1",
   "metadata": {},
   "outputs": [],
   "source": [
    "def read_file(path):\n",
    "    with open(path, 'r', encoding='utf-8') as f:\n",
    "        return f.read();"
   ]
  },
  {
   "cell_type": "code",
   "execution_count": 4,
   "id": "c3f91fc2-ec08-4ca3-a54d-91ef50b0ccfb",
   "metadata": {},
   "outputs": [],
   "source": [
    "for file in os.listdir(dataset_folder):\n",
    "    raw_text = raw_text + read_file(dataset_folder+'/'+file)"
   ]
  },
  {
   "cell_type": "code",
   "execution_count": 5,
   "id": "7df53880-c2ae-4a07-8090-dc360588376d",
   "metadata": {},
   "outputs": [],
   "source": [
    "raw_text = raw_text.lower()"
   ]
  },
  {
   "cell_type": "code",
   "execution_count": 6,
   "id": "02f3681a-5e88-4b40-aafc-fdc20886c15f",
   "metadata": {},
   "outputs": [
    {
     "name": "stdout",
     "output_type": "stream",
     "text": [
      "Total Characters:  738582\n",
      "Total Vocab:  102\n"
     ]
    }
   ],
   "source": [
    "chars = sorted(list(set(raw_text)))\n",
    "char_to_int = dict((c, i) for i, c in enumerate(chars))\n",
    "n_chars = len(raw_text)\n",
    "n_vocab = len(chars)\n",
    "print(\"Total Characters: \", n_chars)\n",
    "print(\"Total Vocab: \", n_vocab)"
   ]
  },
  {
   "cell_type": "code",
   "execution_count": 7,
   "id": "cb434ab8-c58e-45cf-b594-435aeea83996",
   "metadata": {},
   "outputs": [
    {
     "name": "stdout",
     "output_type": "stream",
     "text": [
      "Total Patterns:  738482\n"
     ]
    }
   ],
   "source": [
    "seq_length = 100\n",
    "dataX = []\n",
    "dataY = []\n",
    "for i in range(0, n_chars - seq_length, 1):\n",
    "    seq_in = raw_text[i:i + seq_length]\n",
    "    seq_out = raw_text[i + seq_length]\n",
    "    dataX.append([char_to_int[char] for char in seq_in])\n",
    "    dataY.append(char_to_int[seq_out])\n",
    "n_patterns = len(dataX)\n",
    "print(\"Total Patterns: \", n_patterns)"
   ]
  },
  {
   "cell_type": "code",
   "execution_count": 8,
   "id": "84b7a087-8310-489d-bb52-38b79600db4a",
   "metadata": {},
   "outputs": [
    {
     "name": "stdout",
     "output_type": "stream",
     "text": [
      "torch.Size([738482, 100, 1]) torch.Size([738482])\n"
     ]
    }
   ],
   "source": [
    "X = torch.tensor(dataX, dtype=torch.float32).reshape(n_patterns, seq_length, 1)\n",
    "X = X / float(n_vocab)\n",
    "y = torch.tensor(dataY)\n",
    "print(X.shape, y.shape)"
   ]
  },
  {
   "cell_type": "code",
   "execution_count": 9,
   "id": "58de105e-ecc8-4dee-8f25-575e214eb222",
   "metadata": {},
   "outputs": [],
   "source": [
    "class CharModel(nn.Module):\n",
    "    def __init__(self):\n",
    "        super().__init__()\n",
    "        self.lstm = nn.LSTM(input_size=1, hidden_size=256, num_layers=1, batch_first=True)\n",
    "        self.dropout = nn.Dropout(0.2)\n",
    "        self.linear = nn.Linear(256, n_vocab)\n",
    "    def forward(self, x):\n",
    "        x, _ = self.lstm(x)\n",
    "        # take only the last output\n",
    "        x = x[:, -1, :]\n",
    "        # produce output\n",
    "        x = self.linear(self.dropout(x))\n",
    "        return x"
   ]
  },
  {
   "cell_type": "code",
   "execution_count": null,
   "id": "8a7587c2-4163-4302-8c86-d0f138079c68",
   "metadata": {},
   "outputs": [
    {
     "name": "stdout",
     "output_type": "stream",
     "text": [
      "Epoch 0: Cross-entropy: 2075231.5000\n",
      "Epoch 1: Cross-entropy: 2021502.3750\n",
      "Epoch 2: Cross-entropy: 1969324.3750\n",
      "Epoch 3: Cross-entropy: 1924242.5000\n",
      "Epoch 4: Cross-entropy: 1873051.7500\n",
      "Epoch 5: Cross-entropy: 1825994.3750\n",
      "Epoch 6: Cross-entropy: 1786455.2500\n",
      "Epoch 7: Cross-entropy: 1776091.7500\n",
      "Epoch 8: Cross-entropy: 1730006.5000\n",
      "Epoch 9: Cross-entropy: 1707139.2500\n",
      "Epoch 10: Cross-entropy: 1686052.2500\n",
      "Epoch 11: Cross-entropy: 1671037.1250\n",
      "Epoch 12: Cross-entropy: 1656166.0000\n",
      "Epoch 13: Cross-entropy: 1637354.6250\n",
      "Epoch 14: Cross-entropy: 1625378.8750\n",
      "Epoch 15: Cross-entropy: 1611737.1250\n",
      "Epoch 16: Cross-entropy: 1593314.0000\n",
      "Epoch 17: Cross-entropy: 1590881.0000\n",
      "Epoch 18: Cross-entropy: 1578689.5000\n",
      "Epoch 19: Cross-entropy: 1568103.1250\n",
      "Epoch 20: Cross-entropy: 1558731.3750\n",
      "Epoch 21: Cross-entropy: 1552494.6250\n",
      "Epoch 22: Cross-entropy: 1547819.8750\n",
      "Epoch 23: Cross-entropy: 1537509.5000\n",
      "Epoch 24: Cross-entropy: 1540575.8750\n",
      "Epoch 25: Cross-entropy: 1533812.2500\n",
      "Epoch 26: Cross-entropy: 1522901.0000\n",
      "Epoch 27: Cross-entropy: 1521951.7500\n",
      "Epoch 28: Cross-entropy: 1520631.5000\n",
      "Epoch 29: Cross-entropy: 1521573.0000\n",
      "Epoch 30: Cross-entropy: 1506650.7500\n",
      "Epoch 31: Cross-entropy: 1501975.3750\n",
      "Epoch 32: Cross-entropy: 1496436.1250\n",
      "Epoch 33: Cross-entropy: 1490379.7500\n",
      "Epoch 34: Cross-entropy: 1493080.2500\n"
     ]
    }
   ],
   "source": [
    "n_epochs = 40\n",
    "batch_size = 128\n",
    "model = CharModel()\n",
    "\n",
    "optimizer = optim.Adam(model.parameters())\n",
    "loss_fn = nn.CrossEntropyLoss(reduction=\"sum\")\n",
    "loader = data.DataLoader(data.TensorDataset(X, y), shuffle=True, batch_size=batch_size)\n",
    "\n",
    "best_model = None\n",
    "best_loss = np.inf\n",
    "for epoch in range(n_epochs):\n",
    "    model.train()\n",
    "    for X_batch, y_batch in loader:\n",
    "        y_pred = model(X_batch)\n",
    "        loss = loss_fn(y_pred, y_batch)\n",
    "        optimizer.zero_grad()\n",
    "        loss.backward()\n",
    "        optimizer.step()\n",
    "    # Validation\n",
    "    model.eval()\n",
    "    loss = 0\n",
    "    with torch.no_grad():\n",
    "        for X_batch, y_batch in loader:\n",
    "            y_pred = model(X_batch)\n",
    "            loss += loss_fn(y_pred, y_batch)\n",
    "        if loss < best_loss:\n",
    "            best_loss = loss\n",
    "            best_model = model.state_dict()\n",
    "        print(\"Epoch %d: Cross-entropy: %.4f\" % (epoch, loss))\n",
    "\n",
    "torch.save([best_model, char_to_dict], \"single-char.pth\")"
   ]
  },
  {
   "cell_type": "code",
   "execution_count": null,
   "id": "7796bdd9-78e4-4494-a050-71baeccaff6f",
   "metadata": {},
   "outputs": [],
   "source": []
  }
 ],
 "metadata": {
  "kernelspec": {
   "display_name": "Python 3 (ipykernel)",
   "language": "python",
   "name": "python3"
  },
  "language_info": {
   "codemirror_mode": {
    "name": "ipython",
    "version": 3
   },
   "file_extension": ".py",
   "mimetype": "text/x-python",
   "name": "python",
   "nbconvert_exporter": "python",
   "pygments_lexer": "ipython3",
   "version": "3.12.2"
  }
 },
 "nbformat": 4,
 "nbformat_minor": 5
}
